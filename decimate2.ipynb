{
 "cells": [
  {
   "cell_type": "code",
   "execution_count": 84,
   "id": "2b9cbc92-ab10-4af2-ad66-30bd799b4cbb",
   "metadata": {},
   "outputs": [
    {
     "name": "stdout",
     "output_type": "stream",
     "text": [
      "[(0, 2), (0, 1), (2, 3), (3, 4), (1, 5), (4, 5), (8, 9), (9, 10), (8, 11), (10, 11)]\n"
     ]
    },
    {
     "data": {
      "text/plain": [
       "[[2, 0, 1, 5, 4, 3], [9, 8, 11, 10]]"
      ]
     },
     "execution_count": 84,
     "metadata": {},
     "output_type": "execute_result"
    }
   ],
   "source": [
    "import numpy as np\n",
    "from stl import mesh\n",
    "\n",
    "def roundvec(x):\n",
    "    return np.round(x*10000.)/10000.\n",
    "\n",
    "input_mesh = mesh.Mesh.from_file('simplepoly.stl')\n",
    "faces = [[roundvec(f) for f in e] for e in input_mesh.vectors]\n",
    "pnt2face_idx_lst = {(f[0], f[1], f[2]): [] for e in faces for f in e}\n",
    "\n",
    "\n",
    "for i, e in enumerate(faces):\n",
    "    for f in e:\n",
    "        pnt2face_idx_lst[(f[0], f[1], f[2])].append(i)\n",
    "\n",
    "pnts = pnt2face_idx_lst.keys()\n",
    "\n",
    "\n",
    "pnt_idx2face_idx_lst = list(pnt2face_idx_lst.values())\n",
    "face_idx2pnt_idx_lst = [[] for i in range(max(map(max, pnt_idx2face_idx_lst))+1)]\n",
    "for i, face_idx_lst in enumerate(pnt_idx2face_idx_lst):\n",
    "    for face_idx in face_idx_lst:\n",
    "        face_idx2pnt_idx_lst[face_idx].append(i)\n",
    "\n",
    "#edge2face_idx = {(f[i-1], f[i]): j for j, f in enumerate(face_idx2pnt_idx_lst) for i in range(len(f))}\n",
    "#face_idx2edge_lst = [[] for i in range(max(map(max, pnt_idx2face_idx_lst))+1)]\n",
    "#for k, v in edge2face_idx.items():\n",
    "#    face_idx2edge_lst[v].append(k)\n",
    "\n",
    "#face_idx2edge_lst\n",
    "#face_idx2pnt_idx_lst\n",
    "#edge2face_idx\n",
    "edge2faces_idx = {}\n",
    "for j, f in enumerate(face_idx2pnt_idx_lst):\n",
    "    for i in range(len(f)):\n",
    "        if f[i-1] < f[i]:\n",
    "            edge = (f[i-1], f[i])\n",
    "        elif f[i-1] > f[i]:\n",
    "            edge = (f[i], f[i-1])\n",
    "        else:\n",
    "            raise BaseException(\"edge with one point only\")\n",
    "\n",
    "        if edge not in edge2faces_idx:\n",
    "            edge2faces_idx[edge] = []\n",
    "        edge2faces_idx[edge].append(j)\n",
    "        \n",
    "            \n",
    "\n",
    "#edge2faces_idx\n",
    "edge_idx2edge = list(edge2faces_idx.keys())\n",
    "edge_idx2faces_idx = list(edge2faces_idx.values())\n",
    "edge_idx2faces_idx\n",
    "face_idx2edge_idx_list = [[] for i in range(max(map(max, pnt_idx2face_idx_lst))+1)]\n",
    "for i, f in enumerate(edge_idx2faces_idx):\n",
    "    for e in f:\n",
    "        face_idx2edge_idx_list[e].append(i)\n",
    "\n",
    "#face_idx2edge_idx_list\n",
    "\n",
    "def merge_poly(face_idx_lst, face_idx2edge_idx_lst):\n",
    "    edge_idx_set = set()\n",
    "    for f in face_idx_lst:\n",
    "        for e in face_idx2edge_idx_lst[f]:\n",
    "            if e not in edge_idx_set:\n",
    "                edge_idx_set.add(e)\n",
    "            else:\n",
    "                edge_idx_set.remove(e)\n",
    "    return edge_idx_set\n",
    "\n",
    "edges_idx_merged = merge_poly([0,1,2,3,9,8], face_idx2edge_idx_list)\n",
    "\n",
    "edges_merged = [edge_idx2edge[e] for e in edges_idx_merged]\n",
    "\n",
    "print(edges_merged)\n",
    "\n",
    "def sort_edges(edges_merged):\n",
    "    i = 0\n",
    "    sorted_edges = []\n",
    "    first_last = 0\n",
    "    while True:\n",
    "        current_edge = edges_merged.pop(i)\n",
    "        sorted_edges.append(current_edge)\n",
    "        current_pnt = current_edge[first_last]\n",
    "        for i, e in enumerate(edges_merged):\n",
    "            if current_pnt in e:\n",
    "                first_last = 1 if e[0] == current_pnt else 0\n",
    "                break\n",
    "        else:\n",
    "            break\n",
    "    return sorted_edges\n",
    "\n",
    "sorted_edges_polygons = []\n",
    "while len(edges_merged) > 0:\n",
    "    sorted_edges = sort_edges(edges_merged)\n",
    "    sorted_edges_polygons.append(sorted_edges)\n",
    "\n",
    "#sorted_edges\n",
    "polygons_pts_idx = [[(set(sorted_edges[i-1]).intersection(set(sorted_edges[i]))).pop() for i in range(len(sorted_edges))] for sorted_edges in sorted_edges_polygons]\n",
    "polygons_pts_idx"
   ]
  },
  {
   "cell_type": "code",
   "execution_count": 26,
   "id": "dbc6db21-3619-41c2-9b8c-d7e3df6604a6",
   "metadata": {},
   "outputs": [
    {
     "data": {
      "text/plain": [
       "[[0, 1, 2],\n",
       " [1, 2, 3],\n",
       " [1, 3, 4],\n",
       " [1, 4, 5],\n",
       " [4, 5, 6],\n",
       " [4, 6, 7],\n",
       " [6, 7, 8],\n",
       " [6, 8, 9],\n",
       " [8, 9, 10],\n",
       " [8, 10, 11],\n",
       " [2, 10, 11],\n",
       " [0, 2, 10],\n",
       " [6, 9, 10],\n",
       " [0, 6, 10],\n",
       " [1, 5, 6],\n",
       " [0, 1, 6],\n",
       " [7, 8, 11],\n",
       " [2, 7, 11],\n",
       " [3, 4, 7],\n",
       " [2, 3, 7]]"
      ]
     },
     "execution_count": 26,
     "metadata": {},
     "output_type": "execute_result"
    }
   ],
   "source": [
    "face_idx2pnt_idx_lst"
   ]
  },
  {
   "cell_type": "code",
   "execution_count": 95,
   "id": "56b1ce9b-affd-4c1b-9232-5e3262ae8412",
   "metadata": {},
   "outputs": [
    {
     "name": "stdout",
     "output_type": "stream",
     "text": [
      "[[0, 1, 2], [1, 2, 3], [1, 3, 4], [1, 4, 5], [4, 5, 6], [4, 6, 7], [6, 7, 8], [6, 8, 9], [8, 9, 10], [8, 10, 11], [2, 10, 11], [0, 2, 10], [6, 9, 10], [0, 6, 10], [1, 5, 6], [0, 1, 6], [7, 8, 11], [2, 7, 11], [3, 4, 7], [2, 3, 7]]\n"
     ]
    }
   ],
   "source": [
    "print(face_idx2pnt_idx_lst)"
   ]
  },
  {
   "cell_type": "code",
   "execution_count": 1,
   "id": "42779614-2ddb-4ca4-84d4-86da5e32a5de",
   "metadata": {},
   "outputs": [
    {
     "ename": "NameError",
     "evalue": "name 'sort' is not defined",
     "output_type": "error",
     "traceback": [
      "\u001b[0;31m---------------------------------------------------------------------------\u001b[0m",
      "\u001b[0;31mNameError\u001b[0m                                 Traceback (most recent call last)",
      "Cell \u001b[0;32mIn[1], line 1\u001b[0m\n\u001b[0;32m----> 1\u001b[0m \u001b[43msort\u001b[49m((\u001b[38;5;241m8\u001b[39m,\u001b[38;5;241m9\u001b[39m))\n",
      "\u001b[0;31mNameError\u001b[0m: name 'sort' is not defined"
     ]
    }
   ],
   "source": [
    "sort((8,9))"
   ]
  },
  {
   "cell_type": "code",
   "execution_count": 5,
   "id": "7106cfb1-a682-4dd6-b372-29d7bb20f023",
   "metadata": {},
   "outputs": [
    {
     "data": {
      "text/plain": [
       "[0, 1, 2]"
      ]
     },
     "execution_count": 5,
     "metadata": {},
     "output_type": "execute_result"
    }
   ],
   "source": [
    "[ i for i in range(3)]"
   ]
  },
  {
   "cell_type": "code",
   "execution_count": 10,
   "id": "bb547c4d-c555-479f-a68b-e39576256a7f",
   "metadata": {},
   "outputs": [
    {
     "data": {
      "text/plain": [
       "{(0, 1): 15,\n",
       " (1, 2): 1,\n",
       " (2, 0): 0,\n",
       " (2, 3): 19,\n",
       " (3, 1): 1,\n",
       " (1, 3): 2,\n",
       " (3, 4): 18,\n",
       " (4, 1): 2,\n",
       " (1, 4): 3,\n",
       " (4, 5): 4,\n",
       " (5, 1): 3,\n",
       " (5, 6): 14,\n",
       " (6, 4): 4,\n",
       " (4, 6): 5,\n",
       " (6, 7): 6,\n",
       " (7, 4): 5,\n",
       " (7, 8): 16,\n",
       " (8, 6): 6,\n",
       " (6, 8): 7,\n",
       " (8, 9): 8,\n",
       " (9, 6): 7,\n",
       " (9, 10): 12,\n",
       " (10, 8): 8,\n",
       " (8, 10): 9,\n",
       " (10, 11): 10,\n",
       " (11, 8): 9,\n",
       " (2, 10): 11,\n",
       " (11, 2): 17,\n",
       " (0, 2): 11,\n",
       " (10, 0): 13,\n",
       " (6, 9): 12,\n",
       " (10, 6): 12,\n",
       " (0, 6): 13,\n",
       " (6, 10): 13,\n",
       " (1, 5): 14,\n",
       " (6, 1): 14,\n",
       " (1, 6): 15,\n",
       " (6, 0): 15,\n",
       " (8, 11): 16,\n",
       " (11, 7): 16,\n",
       " (2, 7): 17,\n",
       " (7, 11): 17,\n",
       " (4, 7): 18,\n",
       " (7, 3): 18,\n",
       " (3, 7): 19,\n",
       " (7, 2): 19}"
      ]
     },
     "execution_count": 10,
     "metadata": {},
     "output_type": "execute_result"
    }
   ],
   "source": [
    "edge2face_idx"
   ]
  },
  {
   "cell_type": "code",
   "execution_count": 12,
   "id": "080b7433-1222-46d0-9398-87094f96a8c5",
   "metadata": {},
   "outputs": [
    {
     "data": {
      "text/plain": [
       "[[(2, 0)],\n",
       " [(1, 2), (3, 1)],\n",
       " [(1, 3), (4, 1)],\n",
       " [(1, 4), (5, 1)],\n",
       " [(4, 5), (6, 4)],\n",
       " [(4, 6), (7, 4)],\n",
       " [(6, 7), (8, 6)],\n",
       " [(6, 8), (9, 6)],\n",
       " [(8, 9), (10, 8)],\n",
       " [(8, 10), (11, 8)],\n",
       " [(10, 11)],\n",
       " [(2, 10), (0, 2)],\n",
       " [(9, 10), (6, 9), (10, 6)],\n",
       " [(10, 0), (0, 6), (6, 10)],\n",
       " [(5, 6), (1, 5), (6, 1)],\n",
       " [(0, 1), (1, 6), (6, 0)],\n",
       " [(7, 8), (8, 11), (11, 7)],\n",
       " [(11, 2), (2, 7), (7, 11)],\n",
       " [(3, 4), (4, 7), (7, 3)],\n",
       " [(2, 3), (3, 7), (7, 2)]]"
      ]
     },
     "execution_count": 12,
     "metadata": {},
     "output_type": "execute_result"
    }
   ],
   "source": [
    "face_idx2edge_lst"
   ]
  },
  {
   "cell_type": "code",
   "execution_count": 42,
   "id": "fcda62cd-c093-42c5-83f9-0dbc7659be1c",
   "metadata": {},
   "outputs": [
    {
     "ename": "BaseException",
     "evalue": "test",
     "output_type": "error",
     "traceback": [
      "\u001b[0;31m---------------------------------------------------------------------------\u001b[0m",
      "\u001b[0;31mBaseException\u001b[0m                             Traceback (most recent call last)",
      "Cell \u001b[0;32mIn[42], line 1\u001b[0m\n\u001b[0;32m----> 1\u001b[0m \u001b[38;5;28;01mraise\u001b[39;00m \u001b[38;5;167;01mBaseException\u001b[39;00m(\u001b[38;5;124m\"\u001b[39m\u001b[38;5;124mtest\u001b[39m\u001b[38;5;124m\"\u001b[39m)\n",
      "\u001b[0;31mBaseException\u001b[0m: test"
     ]
    }
   ],
   "source": [
    "raise BaseException(\"test\")\n"
   ]
  },
  {
   "cell_type": "code",
   "execution_count": 69,
   "id": "fd1fd179-f995-4762-acc9-46bbad875863",
   "metadata": {},
   "outputs": [],
   "source": [
    "s1=set([3,4,5])\n",
    "s2= set([7,2,4])"
   ]
  },
  {
   "cell_type": "code",
   "execution_count": 71,
   "id": "145461a0-dfba-407b-b8a2-73a6902fd203",
   "metadata": {},
   "outputs": [
    {
     "data": {
      "text/plain": [
       "{4}"
      ]
     },
     "execution_count": 71,
     "metadata": {},
     "output_type": "execute_result"
    }
   ],
   "source": [
    "s1.intersection(s2)"
   ]
  },
  {
   "cell_type": "code",
   "execution_count": 79,
   "id": "a13190f2-26db-4df3-a14d-cfe353fbaec8",
   "metadata": {},
   "outputs": [
    {
     "name": "stdout",
     "output_type": "stream",
     "text": [
      "0\n",
      "1\n",
      "2\n",
      "else\n"
     ]
    }
   ],
   "source": [
    "for i in range(3):\n",
    "    print(i)\n",
    "else:\n",
    "    print(\"else\")"
   ]
  },
  {
   "cell_type": "code",
   "execution_count": null,
   "id": "24fea4c2-7543-4b65-b2bd-f108631465a0",
   "metadata": {},
   "outputs": [],
   "source": []
  }
 ],
 "metadata": {
  "kernelspec": {
   "display_name": "Python 3 (ipykernel)",
   "language": "python",
   "name": "python3"
  },
  "language_info": {
   "codemirror_mode": {
    "name": "ipython",
    "version": 3
   },
   "file_extension": ".py",
   "mimetype": "text/x-python",
   "name": "python",
   "nbconvert_exporter": "python",
   "pygments_lexer": "ipython3",
   "version": "3.12.3"
  }
 },
 "nbformat": 4,
 "nbformat_minor": 5
}
