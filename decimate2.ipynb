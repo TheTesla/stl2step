{
 "cells": [
  {
   "cell_type": "code",
   "execution_count": 257,
   "id": "2b9cbc92-ab10-4af2-ad66-30bd799b4cbb",
   "metadata": {},
   "outputs": [
    {
     "name": "stdout",
     "output_type": "stream",
     "text": [
      "edges merged list\n",
      "[[(0, 2), (0, 1), (1, 3), (2, 3)], [(1, 3), (3, 4), (1, 5), (4, 5)], [(4, 5), (5, 6), (4, 7), (6, 7)], [(6, 7), (7, 8), (6, 9), (8, 9)], [(8, 9), (9, 10), (8, 11), (10, 11)], [(0, 2), (10, 11), (2, 11), (0, 10)]]\n",
      "[[2, 3, 7], [2, 0, 1, 3], [11, 10, 0, 2], [6, 1, 0], [3, 1, 5, 4], [3, 4, 7], [6, 5, 1], [6, 7, 4, 5], [2, 7, 11], [10, 6, 0], [10, 9, 6], [10, 11, 8, 9], [7, 6, 9, 8], [7, 8, 11]]\n"
     ]
    }
   ],
   "source": [
    "import numpy as np\n",
    "from stl import mesh\n",
    "import cadquery as cq\n",
    "\n",
    "\n",
    "def roundvec(x):\n",
    "    #return x\n",
    "    return np.round(x*10000.)/10000.\n",
    "\n",
    "input_mesh = mesh.Mesh.from_file('simplepoly.stl')\n",
    "faces = [[roundvec(f) for f in e] for e in input_mesh.vectors]\n",
    "pnt2face_idx_lst = {(f[0], f[1], f[2]): [] for e in faces for f in e}\n",
    "\n",
    "\n",
    "for i, e in enumerate(faces):\n",
    "    for f in e:\n",
    "        pnt2face_idx_lst[(f[0], f[1], f[2])].append(i)\n",
    "\n",
    "pnts = list(pnt2face_idx_lst.keys())\n",
    "\n",
    "\n",
    "pnt_idx2face_idx_lst = list(pnt2face_idx_lst.values())\n",
    "face_idx2pnt_idx_lst = [[] for i in range(max(map(max, pnt_idx2face_idx_lst))+1)]\n",
    "for i, face_idx_lst in enumerate(pnt_idx2face_idx_lst):\n",
    "    for face_idx in face_idx_lst:\n",
    "        face_idx2pnt_idx_lst[face_idx].append(i)\n",
    "\n",
    "edge2faces_idx = {}\n",
    "for j, f in enumerate(face_idx2pnt_idx_lst):\n",
    "    for i in range(len(f)):\n",
    "        if f[i-1] < f[i]:\n",
    "            edge = (f[i-1], f[i])\n",
    "        elif f[i-1] > f[i]:\n",
    "            edge = (f[i], f[i-1])\n",
    "        else:\n",
    "            raise BaseException(\"edge with one point only\")\n",
    "\n",
    "        if edge not in edge2faces_idx:\n",
    "            edge2faces_idx[edge] = []\n",
    "        edge2faces_idx[edge].append(j)\n",
    "        \n",
    "            \n",
    "\n",
    "edge_idx2edge = list(edge2faces_idx.keys())\n",
    "edge_idx2faces_idx = list(edge2faces_idx.values())\n",
    "face_idx2edge_idx_list = [[] for i in range(max(map(max, pnt_idx2face_idx_lst))+1)]\n",
    "for i, f in enumerate(edge_idx2faces_idx):\n",
    "    for e in f:\n",
    "        face_idx2edge_idx_list[e].append(i)\n",
    "\n",
    "\n",
    "def merge_poly(face_idx_lst, face_idx2edge_idx_lst):\n",
    "    edge_idx_set = set()\n",
    "    for f in face_idx_lst:\n",
    "        for e in face_idx2edge_idx_lst[f]:\n",
    "            if e not in edge_idx_set:\n",
    "                edge_idx_set.add(e)\n",
    "            else:\n",
    "                edge_idx_set.remove(e)\n",
    "    return edge_idx_set\n",
    "\n",
    "\n",
    "faces_arr = np.array(faces)\n",
    "\n",
    "    \n",
    "\n",
    "faces_to_be_merged_list = [[0,1],[2,3],[4,5],[6,7],[8,9],[10,11]]\n",
    "\n",
    "#faces_to_be_merged_list = [[2,3],[4,5],[6,7], [8,9], [10,11]]\n",
    "\n",
    "edges_idx_merged_list = [[e for e in list(merge_poly(f, face_idx2edge_idx_list))] for f in faces_to_be_merged_list ]\n",
    "edges_merged_list = [[edge_idx2edge[e] for e in edges_idx_merged] for edges_idx_merged in edges_idx_merged_list]\n",
    "\n",
    "faces_merged = [f for m in faces_to_be_merged_list for f in m]\n",
    "remaining_faces = [e for i, e in enumerate(face_idx2pnt_idx_lst) if i not in faces_merged]\n",
    "\n",
    "print(\"edges merged list\")\n",
    "print(edges_merged_list)\n",
    "\n",
    "\n",
    "def sort_edges(edges_merged):\n",
    "    i = 0\n",
    "    sorted_edges = []\n",
    "    first_last = 0\n",
    "    while True:\n",
    "        current_edge = edges_merged.pop(i)\n",
    "        sorted_edges.append(current_edge)\n",
    "        current_pnt = current_edge[first_last]\n",
    "        for i, e in enumerate(edges_merged):\n",
    "            if current_pnt in e:\n",
    "                first_last = 1 if e[0] == current_pnt else 0\n",
    "                break\n",
    "        else:\n",
    "            break\n",
    "    return sorted_edges\n",
    "\n",
    "sorted_edges_polygons = []\n",
    "for edges_merged in edges_merged_list:\n",
    "    while len(edges_merged) > 0:\n",
    "        sorted_edges = sort_edges(edges_merged)\n",
    "        sorted_edges_polygons.append(sorted_edges)\n",
    "\n",
    "#sorted_edges\n",
    "polygons_pts_idx = [[(set(sorted_edges[i-1]).intersection(set(sorted_edges[i]))).pop() for i in range(len(sorted_edges))] for sorted_edges in sorted_edges_polygons]\n",
    "all_polygons = polygons_pts_idx + remaining_faces\n",
    "\n",
    "edge2polygon_idx = {}\n",
    "for j, p in enumerate(all_polygons):\n",
    "    for i in range(len(p)):\n",
    "        edge = (p[i-1], p[i])\n",
    "        if edge not in edge2polygon_idx:\n",
    "            edge2polygon_idx[edge] = []\n",
    "        edge2 = (p[i], p[i-1])\n",
    "        if edge2 not in edge2polygon_idx:\n",
    "            edge2polygon_idx[edge2] = []\n",
    "\n",
    "        edge2polygon_idx[edge].append(j)\n",
    "\n",
    "\n",
    "\n",
    "all_poly_idx_set = set(range(len(all_polygons)))\n",
    "\n",
    "nxt_polys = set({0})\n",
    "poly_res = []\n",
    "\n",
    "while len(nxt_polys) > 0:\n",
    "    current_poly_idx = nxt_polys.pop()\n",
    "    if current_poly_idx >= 0:\n",
    "        current_poly = all_polygons[current_poly_idx]\n",
    "    else:\n",
    "        current_poly = all_polygons[-current_poly_idx][::-1]\n",
    "    for i in range(len(current_poly)):\n",
    "        edge = (current_poly[i], current_poly[i-1])\n",
    "        edge_wrong = (current_poly[i-1], current_poly[i])\n",
    "        adjacent_poly = edge2polygon_idx[edge]\n",
    "        adjacent_poly_wrong = edge2polygon_idx[edge_wrong]\n",
    "        for e in adjacent_poly:\n",
    "            if e != i:\n",
    "                if e in all_poly_idx_set:\n",
    "                    nxt_polys.add(e)\n",
    "                    all_poly_idx_set.remove(e)\n",
    "                    poly_res.append(e)\n",
    "        for e in adjacent_poly_wrong:\n",
    "            if e != i:\n",
    "                if e in all_poly_idx_set:\n",
    "                    nxt_polys.add(-e)\n",
    "                    all_poly_idx_set.remove(e)\n",
    "                    poly_res.append(-e)\n",
    "    \n",
    "\n",
    "#\n",
    "all_poly_correct = [all_polygons[e] if e >=0 else all_polygons[-e][::-1] for e in poly_res]\n",
    "\n",
    "print(all_poly_correct)\n",
    "\n",
    "all_poly_coord = [[pnts[f] for f in e] for e in all_poly_correct]\n",
    "\n",
    "\n",
    "wire = []\n",
    "for p in all_poly_coord:\n",
    "    wire.append(cq.Wire.makePolygon([[c for c in p[i-1]] for i in range(len(p))],close=True))\n",
    "\n",
    "f = [cq.Face.makeFromWires(e, []) for e in wire]\n",
    "shell = cq.Shell.makeShell(f)\n",
    "cq.exporters.export(shell, f\"output.step\")\n"
   ]
  },
  {
   "cell_type": "code",
   "execution_count": null,
   "id": "dbc6db21-3619-41c2-9b8c-d7e3df6604a6",
   "metadata": {},
   "outputs": [],
   "source": []
  },
  {
   "cell_type": "code",
   "execution_count": 137,
   "id": "cd9608ad-75e7-45dc-83cb-f8dfc94d7231",
   "metadata": {},
   "outputs": [
    {
     "data": {
      "text/plain": [
       "[[4, 5], [6, 7]]"
      ]
     },
     "execution_count": 137,
     "metadata": {},
     "output_type": "execute_result"
    }
   ],
   "source": [
    "[[4,5],[6,7]]"
   ]
  },
  {
   "cell_type": "code",
   "execution_count": 215,
   "id": "d9a340d7-eeca-4b9c-bd68-91b07674a1c5",
   "metadata": {},
   "outputs": [
    {
     "data": {
      "text/plain": [
       "{(np.float32(0.866), np.float32(0.5), np.float32(-0.0), np.float32(25.0)): [0,\n",
       "  1],\n",
       " (np.float32(0.0), np.float32(1.0), np.float32(-0.0), np.float32(25.0)): [2,\n",
       "  3],\n",
       " (np.float32(-0.866), np.float32(0.5), np.float32(0.0), np.float32(25.0)): [4,\n",
       "  5],\n",
       " (np.float32(-0.866), np.float32(-0.5), np.float32(0.0), np.float32(25.0)): [6,\n",
       "  7],\n",
       " (np.float32(0.0), np.float32(-1.0), np.float32(0.0), np.float32(25.0)): [8,\n",
       "  9],\n",
       " (np.float32(0.866), np.float32(-0.5), np.float32(0.0), np.float32(25.0)): [10,\n",
       "  11],\n",
       " (np.float32(0.0), np.float32(0.0), np.float32(-1.0), np.float32(0.0)): [12,\n",
       "  13,\n",
       "  14,\n",
       "  15],\n",
       " (np.float32(0.0), np.float32(0.0), np.float32(1.0), np.float32(10.0)): [16,\n",
       "  17,\n",
       "  18,\n",
       "  19]}"
      ]
     },
     "execution_count": 215,
     "metadata": {},
     "output_type": "execute_result"
    }
   ],
   "source": [
    "a = faces_arr[:,0,:]\n",
    "b = faces_arr[:,1,:]\n",
    "c = faces_arr[:,2,:]\n",
    "\n",
    "ab = (b - a)\n",
    "ac = (c - a)\n",
    "\n",
    "nrm = np.cross(ab, ac)\n",
    "nrm2 = nrm / np.linalg.norm(nrm, axis=1)[:, np.newaxis]\n",
    "dist = np.einsum('ij,ij->i', a, nrm2)\n",
    "\n",
    "v = roundvec(np.column_stack((nrm2, dist)))\n",
    "\n",
    "clust = {(e[0], e[1], e[2], e[3]): [] for e in v}\n",
    "for i, e in enumerate(v):\n",
    "    clust[(e[0], e[1], e[2], e[3])].append(i)\n",
    "\n",
    "clust"
   ]
  },
  {
   "cell_type": "code",
   "execution_count": 175,
   "id": "8b0643da-a9b2-498c-a054-829e3d1372d4",
   "metadata": {},
   "outputs": [
    {
     "data": {
      "text/plain": [
       "array([[ 28.8675,   0.    ,   0.    ],\n",
       "       [ 28.8675,   0.    ,  10.    ],\n",
       "       [ 14.4338,  25.    ,   0.    ],\n",
       "       [ 14.4338,  25.    ,   0.    ],\n",
       "       [-14.4338,  25.    ,   0.    ],\n",
       "       [-14.4338,  25.    ,  10.    ],\n",
       "       [-28.8675,  -0.    ,   0.    ],\n",
       "       [-28.8675,  -0.    ,   0.    ],\n",
       "       [-14.4338, -25.    ,   0.    ],\n",
       "       [-14.4338, -25.    ,  10.    ],\n",
       "       [ 14.4338, -25.    ,   0.    ],\n",
       "       [ 14.4338, -25.    ,   0.    ],\n",
       "       [-28.8675,  -0.    ,   0.    ],\n",
       "       [-28.8675,  -0.    ,   0.    ],\n",
       "       [-14.4338,  25.    ,   0.    ],\n",
       "       [-28.8675,  -0.    ,   0.    ],\n",
       "       [ 14.4338, -25.    ,  10.    ],\n",
       "       [ 28.8675,   0.    ,  10.    ],\n",
       "       [ 14.4338,  25.    ,  10.    ],\n",
       "       [ 14.4338,  25.    ,  10.    ]], dtype=float32)"
      ]
     },
     "execution_count": 175,
     "metadata": {},
     "output_type": "execute_result"
    }
   ],
   "source": [
    "a"
   ]
  },
  {
   "cell_type": "code",
   "execution_count": 177,
   "id": "bdda0bcf-4bec-4377-a615-7eb7fb467a41",
   "metadata": {},
   "outputs": [
    {
     "data": {
      "text/plain": [
       "array([[  250.     ,   144.337  ,    -0.     ],\n",
       "       [  250.     ,   144.337  ,     0.     ],\n",
       "       [    0.     ,   288.676  ,    -0.     ],\n",
       "       [    0.     ,   288.676  ,     0.     ],\n",
       "       [ -250.     ,   144.337  ,     0.     ],\n",
       "       [ -250.     ,   144.337  ,     0.     ],\n",
       "       [ -250.     ,  -144.337  ,     0.     ],\n",
       "       [ -250.     ,  -144.337  ,     0.     ],\n",
       "       [    0.     ,  -288.676  ,     0.     ],\n",
       "       [    0.     ,  -288.676  ,     0.     ],\n",
       "       [  250.     ,  -144.337  ,     0.     ],\n",
       "       [  250.     ,  -144.337  ,     0.     ],\n",
       "       [    0.     ,     0.     ,  -721.68994],\n",
       "       [    0.     ,     0.     , -1443.375  ],\n",
       "       [    0.     ,    -0.     ,  -721.69   ],\n",
       "       [    0.     ,     0.     , -1443.375  ],\n",
       "       [    0.     ,     0.     ,   721.69   ],\n",
       "       [    0.     ,     0.     ,  1443.375  ],\n",
       "       [    0.     ,     0.     ,   721.69   ],\n",
       "       [    0.     ,     0.     ,  1443.375  ]], dtype=float32)"
      ]
     },
     "execution_count": 177,
     "metadata": {},
     "output_type": "execute_result"
    }
   ],
   "source": [
    "nrm"
   ]
  },
  {
   "cell_type": "code",
   "execution_count": 255,
   "id": "c08acbef-51fc-494d-91bf-97d868e5a36f",
   "metadata": {},
   "outputs": [
    {
     "data": {
      "text/plain": [
       "[[(0, 2), (0, 1), (1, 3), (2, 3)],\n",
       " [(1, 3), (1, 5), (4, 5), (3, 4)],\n",
       " [(4, 5), (4, 7), (6, 7), (5, 6)],\n",
       " [(6, 7), (6, 9), (8, 9), (7, 8)],\n",
       " [(8, 9), (8, 11), (10, 11), (9, 10)]]"
      ]
     },
     "execution_count": 255,
     "metadata": {},
     "output_type": "execute_result"
    }
   ],
   "source": [
    "sorted_edges_polygons"
   ]
  },
  {
   "cell_type": "code",
   "execution_count": 253,
   "id": "12970cbc-47f2-4d21-b40a-321fe28299bc",
   "metadata": {},
   "outputs": [
    {
     "data": {
      "text/plain": [
       "[]"
      ]
     },
     "execution_count": 253,
     "metadata": {},
     "output_type": "execute_result"
    }
   ],
   "source": [
    "edges_merged"
   ]
  },
  {
   "cell_type": "code",
   "execution_count": null,
   "id": "d565c738-998e-4e32-a05d-0f89c385081b",
   "metadata": {},
   "outputs": [],
   "source": []
  }
 ],
 "metadata": {
  "kernelspec": {
   "display_name": "Python 3 (ipykernel)",
   "language": "python",
   "name": "python3"
  },
  "language_info": {
   "codemirror_mode": {
    "name": "ipython",
    "version": 3
   },
   "file_extension": ".py",
   "mimetype": "text/x-python",
   "name": "python",
   "nbconvert_exporter": "python",
   "pygments_lexer": "ipython3",
   "version": "3.12.3"
  }
 },
 "nbformat": 4,
 "nbformat_minor": 5
}
